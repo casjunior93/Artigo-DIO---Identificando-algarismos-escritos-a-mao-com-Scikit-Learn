{
  "nbformat": 4,
  "nbformat_minor": 0,
  "metadata": {
    "colab": {
      "name": "Classificação - Identificando algarismos escritos à mão com Scikit Learn.ipynb",
      "provenance": [],
      "collapsed_sections": [],
      "authorship_tag": "ABX9TyOpk1aR1wC86uWo6j8DEiS6",
      "include_colab_link": true
    },
    "kernelspec": {
      "name": "python3",
      "display_name": "Python 3"
    },
    "language_info": {
      "name": "python"
    }
  },
  "cells": [
    {
      "cell_type": "markdown",
      "metadata": {
        "id": "view-in-github",
        "colab_type": "text"
      },
      "source": [
        "<a href=\"https://colab.research.google.com/github/casjunior93/Artigo-DIO---Identificando-algarismos-escritos-a-mao-com-Scikit-Learn/blob/main/Classifica%C3%A7%C3%A3o_Identificando_algarismos_escritos_%C3%A0_m%C3%A3o_com_Scikit_Learn.ipynb\" target=\"_parent\"><img src=\"https://colab.research.google.com/assets/colab-badge.svg\" alt=\"Open In Colab\"/></a>"
      ]
    },
    {
      "cell_type": "markdown",
      "source": [
        "# Identificando algarismos com Scikit Learn"
      ],
      "metadata": {
        "id": "mXPuCEH71x30"
      }
    },
    {
      "cell_type": "markdown",
      "source": [
        "Primeiramente, vamos desabilitar alguns aviso chatos."
      ],
      "metadata": {
        "id": "4Qa2S17OFLQh"
      }
    },
    {
      "cell_type": "code",
      "source": [
        "import warnings\n",
        "warnings.filterwarnings('ignore')"
      ],
      "metadata": {
        "id": "wpDGxZunFRiA"
      },
      "execution_count": 1,
      "outputs": []
    },
    {
      "cell_type": "markdown",
      "source": [
        "Neste projeto, vamos treinar um classificador para tentar identificar algarismos escritos. Para isso, vamos usar o conjunto de dados MNIST. Ele é composto por 70 mil imagens de algarismos escritos à mão.\n",
        "\n",
        "O conjunto MNIST pode ser importado utilizando o Scikit-Learn, executando a célula abaixo:"
      ],
      "metadata": {
        "id": "2cC_5D-zJEq7"
      }
    },
    {
      "cell_type": "code",
      "source": [
        "from sklearn.datasets import fetch_openml\n",
        "mnist = fetch_openml('mnist_784', version=1)\n",
        "mnist.keys()"
      ],
      "metadata": {
        "colab": {
          "base_uri": "https://localhost:8080/"
        },
        "id": "N3mPoj48K0YE",
        "outputId": "c079c1ca-5887-4b71-9ed7-690ea6f761d6"
      },
      "execution_count": 2,
      "outputs": [
        {
          "output_type": "execute_result",
          "data": {
            "text/plain": [
              "dict_keys(['data', 'target', 'frame', 'categories', 'feature_names', 'target_names', 'DESCR', 'details', 'url'])"
            ]
          },
          "metadata": {},
          "execution_count": 2
        }
      ]
    },
    {
      "cell_type": "markdown",
      "source": [
        "Conferindo o conjunto:"
      ],
      "metadata": {
        "id": "DaIkSCC5L96l"
      }
    },
    {
      "cell_type": "code",
      "source": [
        "X, y = mnist[\"data\"], mnist[\"target\"]\n",
        "print(X.shape)\n",
        "print(y.shape)"
      ],
      "metadata": {
        "colab": {
          "base_uri": "https://localhost:8080/"
        },
        "id": "HzmCRpjOMerW",
        "outputId": "fdfa6591-c82e-4ae9-8461-1a7b65cf8a9d"
      },
      "execution_count": 3,
      "outputs": [
        {
          "output_type": "stream",
          "name": "stdout",
          "text": [
            "(70000, 784)\n",
            "(70000,)\n"
          ]
        }
      ]
    },
    {
      "cell_type": "markdown",
      "source": [
        "A chave data contém um array com os dados. Cada linha contém 784 colunas. Como cada imagem tem 28x28 pixels, cada coluna representa a intensidade de um pixel, sendo 0 (branco) e 1 (preto)."
      ],
      "metadata": {
        "id": "J3RdG4fHO29y"
      }
    },
    {
      "cell_type": "markdown",
      "source": [
        "A chave target contém um array com os rótulos, que são os algarismos que cada imagem representa."
      ],
      "metadata": {
        "id": "4nVz1Vi8PlgW"
      }
    },
    {
      "cell_type": "markdown",
      "source": [
        "Para visualizar um algarismo do dataset, precisamos pegar o vetor das características de uma instância e remodelar para uma matriz 28x28."
      ],
      "metadata": {
        "id": "wJsr23vqP9f3"
      }
    },
    {
      "cell_type": "markdown",
      "source": [
        "Vamos escolher uma instância e montar a imagem. Escolhemos a instância com índice 5."
      ],
      "metadata": {
        "id": "dDVWtVuWQqqF"
      }
    },
    {
      "cell_type": "code",
      "source": [
        "algarismo = X.to_numpy()[5]"
      ],
      "metadata": {
        "id": "0SuXyHSRmeVZ"
      },
      "execution_count": 4,
      "outputs": []
    },
    {
      "cell_type": "markdown",
      "source": [
        "Observando o vetor:"
      ],
      "metadata": {
        "id": "YWOmxTyw1-_v"
      }
    },
    {
      "cell_type": "code",
      "source": [
        "algarismo"
      ],
      "metadata": {
        "colab": {
          "base_uri": "https://localhost:8080/"
        },
        "id": "DLoHBX2S2CKZ",
        "outputId": "d0a814b6-c61b-4070-d1c9-47ae8792ef7c"
      },
      "execution_count": 5,
      "outputs": [
        {
          "output_type": "execute_result",
          "data": {
            "text/plain": [
              "array([  0.,   0.,   0.,   0.,   0.,   0.,   0.,   0.,   0.,   0.,   0.,\n",
              "         0.,   0.,   0.,   0.,   0.,   0.,   0.,   0.,   0.,   0.,   0.,\n",
              "         0.,   0.,   0.,   0.,   0.,   0.,   0.,   0.,   0.,   0.,   0.,\n",
              "         0.,   0.,   0.,   0.,   0.,   0.,   0.,   0.,   0.,   0.,   0.,\n",
              "         0.,   0.,   0.,   0.,   0.,   0.,   0.,   0.,   0.,   0.,   0.,\n",
              "         0.,   0.,   0.,   0.,   0.,   0.,   0.,   0.,   0.,   0.,   0.,\n",
              "         0.,   0.,   0.,   0.,   0.,   0.,   0.,   0.,   0.,   0.,   0.,\n",
              "         0.,   0.,   0.,   0.,   0.,   0.,   0.,   0.,   0.,   0.,   0.,\n",
              "         0.,   0.,   0.,   0.,   0.,   0.,   0.,   0.,   0.,   0.,   0.,\n",
              "         0.,   0.,   0.,   0.,   0.,   0.,   0.,   0.,   0.,   0.,   0.,\n",
              "         0.,   0.,   0.,   0.,   0.,   0.,   0.,   0.,   0.,   0.,   0.,\n",
              "         0.,   0.,   0.,   0.,   0.,   0.,   0.,   0.,   0.,   0.,   0.,\n",
              "         0.,   0.,   0.,   0.,   0.,   0.,   0.,   0.,   0.,   0.,   0.,\n",
              "         0.,   0.,   0.,   0.,   0.,   0.,   0.,   0.,   0.,   0.,   0.,\n",
              "         0.,  13.,  25., 100., 122.,   7.,   0.,   0.,   0.,   0.,   0.,\n",
              "         0.,   0.,   0.,   0.,   0.,   0.,   0.,   0.,   0.,   0.,   0.,\n",
              "         0.,   0.,   0.,   0.,   0.,  33., 151., 208., 252., 252., 252.,\n",
              "       146.,   0.,   0.,   0.,   0.,   0.,   0.,   0.,   0.,   0.,   0.,\n",
              "         0.,   0.,   0.,   0.,   0.,   0.,   0.,   0.,   0.,  40., 152.,\n",
              "       244., 252., 253., 224., 211., 252., 232.,  40.,   0.,   0.,   0.,\n",
              "         0.,   0.,   0.,   0.,   0.,   0.,   0.,   0.,   0.,   0.,   0.,\n",
              "         0.,   0.,  15., 152., 239., 252., 252., 252., 216.,  31.,  37.,\n",
              "       252., 252.,  60.,   0.,   0.,   0.,   0.,   0.,   0.,   0.,   0.,\n",
              "         0.,   0.,   0.,   0.,   0.,   0.,   0.,   0.,  96., 252., 252.,\n",
              "       252., 252., 217.,  29.,   0.,  37., 252., 252.,  60.,   0.,   0.,\n",
              "         0.,   0.,   0.,   0.,   0.,   0.,   0.,   0.,   0.,   0.,   0.,\n",
              "         0.,   0.,   0., 181., 252., 252., 220., 167.,  30.,   0.,   0.,\n",
              "        77., 252., 252.,  60.,   0.,   0.,   0.,   0.,   0.,   0.,   0.,\n",
              "         0.,   0.,   0.,   0.,   0.,   0.,   0.,   0.,   0.,  26., 128.,\n",
              "        58.,  22.,   0.,   0.,   0.,   0., 100., 252., 252.,  60.,   0.,\n",
              "         0.,   0.,   0.,   0.,   0.,   0.,   0.,   0.,   0.,   0.,   0.,\n",
              "         0.,   0.,   0.,   0.,   0.,   0.,   0.,   0.,   0.,   0.,   0.,\n",
              "         0., 157., 252., 252.,  60.,   0.,   0.,   0.,   0.,   0.,   0.,\n",
              "         0.,   0.,   0.,   0.,   0.,   0.,   0.,   0.,   0.,   0.,   0.,\n",
              "         0.,   0.,   0., 110., 121., 122., 121., 202., 252., 194.,   3.,\n",
              "         0.,   0.,   0.,   0.,   0.,   0.,   0.,   0.,   0.,   0.,   0.,\n",
              "         0.,   0.,   0.,   0.,   0.,   0.,  10.,  53., 179., 253., 253.,\n",
              "       255., 253., 253., 228.,  35.,   0.,   0.,   0.,   0.,   0.,   0.,\n",
              "         0.,   0.,   0.,   0.,   0.,   0.,   0.,   0.,   0.,   0.,   5.,\n",
              "        54., 227., 252., 243., 228., 170., 242., 252., 252., 231., 117.,\n",
              "         6.,   0.,   0.,   0.,   0.,   0.,   0.,   0.,   0.,   0.,   0.,\n",
              "         0.,   0.,   0.,   0.,   6.,  78., 252., 252., 125.,  59.,   0.,\n",
              "        18., 208., 252., 252., 252., 252.,  87.,   7.,   0.,   0.,   0.,\n",
              "         0.,   0.,   0.,   0.,   0.,   0.,   0.,   0.,   0.,   5., 135.,\n",
              "       252., 252., 180.,  16.,   0.,  21., 203., 253., 247., 129., 173.,\n",
              "       252., 252., 184.,  66.,  49.,  49.,   0.,   0.,   0.,   0.,   0.,\n",
              "         0.,   0.,   0.,   3., 136., 252., 241., 106.,  17.,   0.,  53.,\n",
              "       200., 252., 216.,  65.,   0.,  14.,  72., 163., 241., 252., 252.,\n",
              "       223.,   0.,   0.,   0.,   0.,   0.,   0.,   0.,   0., 105., 252.,\n",
              "       242.,  88.,  18.,  73., 170., 244., 252., 126.,  29.,   0.,   0.,\n",
              "         0.,   0.,   0.,  89., 180., 180.,  37.,   0.,   0.,   0.,   0.,\n",
              "         0.,   0.,   0.,   0., 231., 252., 245., 205., 216., 252., 252.,\n",
              "       252., 124.,   3.,   0.,   0.,   0.,   0.,   0.,   0.,   0.,   0.,\n",
              "         0.,   0.,   0.,   0.,   0.,   0.,   0.,   0.,   0.,   0., 207.,\n",
              "       252., 252., 252., 252., 178., 116.,  36.,   4.,   0.,   0.,   0.,\n",
              "         0.,   0.,   0.,   0.,   0.,   0.,   0.,   0.,   0.,   0.,   0.,\n",
              "         0.,   0.,   0.,   0.,   0.,  13.,  93., 143., 121.,  23.,   6.,\n",
              "         0.,   0.,   0.,   0.,   0.,   0.,   0.,   0.,   0.,   0.,   0.,\n",
              "         0.,   0.,   0.,   0.,   0.,   0.,   0.,   0.,   0.,   0.,   0.,\n",
              "         0.,   0.,   0.,   0.,   0.,   0.,   0.,   0.,   0.,   0.,   0.,\n",
              "         0.,   0.,   0.,   0.,   0.,   0.,   0.,   0.,   0.,   0.,   0.,\n",
              "         0.,   0.,   0.,   0.,   0.,   0.,   0.,   0.,   0.,   0.,   0.,\n",
              "         0.,   0.,   0.,   0.,   0.,   0.,   0.,   0.,   0.,   0.,   0.,\n",
              "         0.,   0.,   0.,   0.,   0.,   0.,   0.,   0.,   0.,   0.,   0.,\n",
              "         0.,   0.,   0.,   0.,   0.,   0.,   0.,   0.,   0.,   0.,   0.,\n",
              "         0.,   0.,   0.,   0.,   0.,   0.,   0.,   0.,   0.,   0.,   0.,\n",
              "         0.,   0.,   0.,   0.,   0.,   0.,   0.,   0.,   0.,   0.,   0.,\n",
              "         0.,   0.,   0.,   0.,   0.,   0.,   0.,   0.,   0.,   0.,   0.,\n",
              "         0.,   0.,   0.,   0.,   0.,   0.,   0.,   0.,   0.,   0.,   0.,\n",
              "         0.,   0.,   0.,   0.,   0.,   0.,   0.,   0.,   0.,   0.,   0.,\n",
              "         0.,   0.,   0.,   0.,   0.,   0.,   0.,   0.,   0.,   0.,   0.,\n",
              "         0.,   0.,   0.])"
            ]
          },
          "metadata": {},
          "execution_count": 5
        }
      ]
    },
    {
      "cell_type": "markdown",
      "source": [
        "Remodelando o vetor para uma matriz 28x28:"
      ],
      "metadata": {
        "id": "izFRwvTx2kbQ"
      }
    },
    {
      "cell_type": "code",
      "source": [
        "algarismo_imagem = algarismo.reshape(28,28)"
      ],
      "metadata": {
        "id": "kHe_9a0V2oOb"
      },
      "execution_count": 6,
      "outputs": []
    },
    {
      "cell_type": "markdown",
      "source": [
        "Agora importamos a biblioteca Matplotlib e usamos a função imshow()."
      ],
      "metadata": {
        "id": "sWjxcBA6Uv6b"
      }
    },
    {
      "cell_type": "code",
      "source": [
        "import matplotlib as mpl\n",
        "import matplotlib.pyplot as plt"
      ],
      "metadata": {
        "id": "CUZHxLqnVAxS"
      },
      "execution_count": 7,
      "outputs": []
    },
    {
      "cell_type": "code",
      "source": [
        "plt.imshow(algarismo_imagem, cmap='binary')\n",
        "plt.axis('off')\n",
        "plt.show()"
      ],
      "metadata": {
        "colab": {
          "base_uri": "https://localhost:8080/",
          "height": 248
        },
        "id": "AduERYW-o4-Y",
        "outputId": "74df52bf-b314-4672-e527-de842932272c"
      },
      "execution_count": 8,
      "outputs": [
        {
          "output_type": "display_data",
          "data": {
            "image/png": "[encoded data removed]",
            "text/plain": [
              "<Figure size 432x288 with 1 Axes>"
            ]
          },
          "metadata": {
            "needs_background": "light"
          }
        }
      ]
    },
    {
      "cell_type": "markdown",
      "source": [
        "O algarismo parece um 2. Quando vemos o rótulo dessa imagem, vemos que é 2."
      ],
      "metadata": {
        "id": "b5mv_9oKpuUs"
      }
    },
    {
      "cell_type": "code",
      "source": [
        "y[5]"
      ],
      "metadata": {
        "colab": {
          "base_uri": "https://localhost:8080/",
          "height": 35
        },
        "id": "DJYZBetUpny5",
        "outputId": "5e5d599a-5190-4a48-b74a-4759b02f1eb9"
      },
      "execution_count": 9,
      "outputs": [
        {
          "output_type": "execute_result",
          "data": {
            "application/vnd.google.colaboratory.intrinsic+json": {
              "type": "string"
            },
            "text/plain": [
              "'2'"
            ]
          },
          "metadata": {},
          "execution_count": 9
        }
      ]
    },
    {
      "cell_type": "markdown",
      "source": [
        "Os rótulos são do tipo string. Para utilizarmos o algoritmo de Machine Learning vamos converter os valores de y para inteiros."
      ],
      "metadata": {
        "id": "fysl4Nimqx2L"
      }
    },
    {
      "cell_type": "code",
      "source": [
        "y = y.astype('int64')"
      ],
      "metadata": {
        "id": "AjBIdBmPsnF7"
      },
      "execution_count": 10,
      "outputs": []
    },
    {
      "cell_type": "code",
      "source": [
        "y"
      ],
      "metadata": {
        "colab": {
          "base_uri": "https://localhost:8080/"
        },
        "id": "O6mceMqg3jz8",
        "outputId": "9355193c-35b7-422e-c14c-7001ecfba85a"
      },
      "execution_count": 11,
      "outputs": [
        {
          "output_type": "execute_result",
          "data": {
            "text/plain": [
              "0        5\n",
              "1        0\n",
              "2        4\n",
              "3        1\n",
              "4        9\n",
              "        ..\n",
              "69995    2\n",
              "69996    3\n",
              "69997    4\n",
              "69998    5\n",
              "69999    6\n",
              "Name: class, Length: 70000, dtype: int64"
            ]
          },
          "metadata": {},
          "execution_count": 11
        }
      ]
    },
    {
      "cell_type": "markdown",
      "source": [
        "## Separando os dados em conjuntos de teste e treino"
      ],
      "metadata": {
        "id": "MuyfMt9j4MJd"
      }
    },
    {
      "cell_type": "markdown",
      "source": [
        "Vamos utilizar as primeiras 60 mil imagens como o conjunto de treino e as últimas 10 mil como conjunto de teste."
      ],
      "metadata": {
        "id": "kZL0gYju4Y8D"
      }
    },
    {
      "cell_type": "code",
      "source": [
        "X_treino, X_test = X[:60000], X[:10000]"
      ],
      "metadata": {
        "id": "egCzHJXs3ngk"
      },
      "execution_count": 12,
      "outputs": []
    },
    {
      "cell_type": "code",
      "source": [
        "y_treino, y_teste = y[:60000], y[:10000]"
      ],
      "metadata": {
        "id": "MSPPUC9u4xOJ"
      },
      "execution_count": 13,
      "outputs": []
    },
    {
      "cell_type": "markdown",
      "source": [
        "## Treinando um classificador binário"
      ],
      "metadata": {
        "id": "_vi5pulE53Co"
      }
    },
    {
      "cell_type": "markdown",
      "source": [
        "Vamos treinar o classificador para tentar identificar um único algarismo. Para isso, vamos considerar duas classes, uma classe que corresponde ao algarismo que queremos identificar e outra que não corresponde. Por exemplo, se queremos identificar o algarismo 2, teremos as classes \"2\" e \"não-2\". Vamos continuar criando um classificador para o algarismo 2."
      ],
      "metadata": {
        "id": "Pwo4_LwA6A63"
      }
    },
    {
      "cell_type": "code",
      "source": [
        "y_treino_2 = (y_treino == 2)\n",
        "y_teste_2 = (y_teste == 2)"
      ],
      "metadata": {
        "id": "m8H3fDLi556F"
      },
      "execution_count": 14,
      "outputs": []
    },
    {
      "cell_type": "markdown",
      "source": [
        "Observamos que os valores de y, tanto para teste, quanto para treino, foram substituídos para False se y diferente de 2 e True se y igual a 2."
      ],
      "metadata": {
        "id": "nqHFpyvZ7C2A"
      }
    },
    {
      "cell_type": "code",
      "source": [
        "y_treino_2"
      ],
      "metadata": {
        "colab": {
          "base_uri": "https://localhost:8080/"
        },
        "id": "viJwaFOg64YO",
        "outputId": "bc937eaf-1afc-4016-c0bb-28c45856feec"
      },
      "execution_count": 15,
      "outputs": [
        {
          "output_type": "execute_result",
          "data": {
            "text/plain": [
              "0        False\n",
              "1        False\n",
              "2        False\n",
              "3        False\n",
              "4        False\n",
              "         ...  \n",
              "59995    False\n",
              "59996    False\n",
              "59997    False\n",
              "59998    False\n",
              "59999    False\n",
              "Name: class, Length: 60000, dtype: bool"
            ]
          },
          "metadata": {},
          "execution_count": 15
        }
      ]
    },
    {
      "cell_type": "code",
      "source": [
        "y_teste_2"
      ],
      "metadata": {
        "colab": {
          "base_uri": "https://localhost:8080/"
        },
        "id": "OCUHV9WB6988",
        "outputId": "0ff553eb-c9e7-4ce8-c5a6-6b956054d7c2"
      },
      "execution_count": 16,
      "outputs": [
        {
          "output_type": "execute_result",
          "data": {
            "text/plain": [
              "0       False\n",
              "1       False\n",
              "2       False\n",
              "3       False\n",
              "4       False\n",
              "        ...  \n",
              "9995    False\n",
              "9996    False\n",
              "9997    False\n",
              "9998    False\n",
              "9999    False\n",
              "Name: class, Length: 10000, dtype: bool"
            ]
          },
          "metadata": {},
          "execution_count": 16
        }
      ]
    },
    {
      "cell_type": "markdown",
      "source": [
        "Chegou a hora de treinar o classificador! Vamos utilizar o *gradiente descendente estocástico*, chamando a classe **SGDClassifier** do Scikit-Learn. Saiba mais sobre *gradiente descendente* e *gradiente descendente estocástico* nesse artigo: https://medium.com/@gabrielkirsten/a-evolu%C3%A7%C3%A3o-da-descida-de-gradiente-e-seus-otimizadores-680c835c1b4f"
      ],
      "metadata": {
        "id": "-2Z6QybD960z"
      }
    },
    {
      "cell_type": "code",
      "source": [
        "from sklearn.linear_model import SGDClassifier\n",
        "sgd_clf = SGDClassifier(random_state=42)"
      ],
      "metadata": {
        "id": "_tvZskBY7AuG"
      },
      "execution_count": 17,
      "outputs": []
    },
    {
      "cell_type": "markdown",
      "source": [
        "Uma observação, é necessário definir o parâmetro random_state para a SGDClassifier para manter os resultados reproduzíveis, caso contrário, a aleatoriedade que esse classificador depende pode nos trazer resultados diferentes em cada vez que o treinarmos."
      ],
      "metadata": {
        "id": "VnIcWxeSARh5"
      }
    },
    {
      "cell_type": "markdown",
      "source": [
        "Finalmente vamos treinar o classificador!"
      ],
      "metadata": {
        "id": "H85s7LEvBS8w"
      }
    },
    {
      "cell_type": "code",
      "source": [
        "sgd_clf.fit(X_treino, y_treino_2)"
      ],
      "metadata": {
        "colab": {
          "base_uri": "https://localhost:8080/"
        },
        "id": "hWqSjlE6_-Rc",
        "outputId": "28fc176d-4780-4802-d7a2-700d72ab987d"
      },
      "execution_count": 18,
      "outputs": [
        {
          "output_type": "execute_result",
          "data": {
            "text/plain": [
              "SGDClassifier(random_state=42)"
            ]
          },
          "metadata": {},
          "execution_count": 18
        }
      ]
    },
    {
      "cell_type": "markdown",
      "source": [
        "Feito! Agora vamos fazer um teste utilizando a variável agarismo que criamos anteriormente. Lembre-se que a variável recebeu o algarismo 2."
      ],
      "metadata": {
        "id": "SpxCFcSOCU5K"
      }
    },
    {
      "cell_type": "code",
      "source": [
        "sgd_clf.predict([algarismo])"
      ],
      "metadata": {
        "colab": {
          "base_uri": "https://localhost:8080/"
        },
        "id": "eaGx5jkpBpvp",
        "outputId": "c7f62c81-7767-4c56-9db6-2f34d28d3e3f"
      },
      "execution_count": 19,
      "outputs": [
        {
          "output_type": "execute_result",
          "data": {
            "text/plain": [
              "array([ True])"
            ]
          },
          "metadata": {},
          "execution_count": 19
        }
      ]
    },
    {
      "cell_type": "markdown",
      "source": [
        "Retornou True, ou seja, o classificador estimuou que o algarismo é o 2 corretamente. Agora vamos tentar outro algarismo. O algarismo do índice 0 é o 5."
      ],
      "metadata": {
        "id": "LQwa5ixeC9ab"
      }
    },
    {
      "cell_type": "code",
      "source": [
        "sgd_clf.predict([X.to_numpy()[0]])"
      ],
      "metadata": {
        "colab": {
          "base_uri": "https://localhost:8080/"
        },
        "id": "hBsopaZpC1Gs",
        "outputId": "7fd89740-a64f-467f-ffb4-2363b8a2a499"
      },
      "execution_count": 20,
      "outputs": [
        {
          "output_type": "execute_result",
          "data": {
            "text/plain": [
              "array([False])"
            ]
          },
          "metadata": {},
          "execution_count": 20
        }
      ]
    },
    {
      "cell_type": "markdown",
      "source": [
        "Opa! Com o retorno False, nosso classificador estimou que a imagem representada no índice 0 do dataset original não é o algarismo 2."
      ],
      "metadata": {
        "id": "qNCbaRIhDgbs"
      }
    },
    {
      "cell_type": "markdown",
      "source": [
        "Em um próximo artigo, vamos falar como avaliar o desempenho desse modelo classificador."
      ],
      "metadata": {
        "id": "pDZpbLjeGIJm"
      }
    },
    {
      "cell_type": "markdown",
      "source": [
        "Até a próxima!"
      ],
      "metadata": {
        "id": "uOfHXKtAGX2z"
      }
    }
  ]
}